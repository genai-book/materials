{
  "nbformat": 4,
  "nbformat_minor": 0,
  "metadata": {
    "colab": {
      "provenance": []
    },
    "kernelspec": {
      "name": "python3",
      "display_name": "Python 3"
    },
    "language_info": {
      "name": "python"
    }
  },
  "cells": [
    {
      "cell_type": "markdown",
      "source": [
        "# C&R"
      ],
      "metadata": {
        "id": "8aPNQk9iDTvm"
      }
    },
    {
      "cell_type": "markdown",
      "source": [
        "\n",
        "## プログラミング言語とは"
      ],
      "metadata": {
        "id": "4puPb14SE2hQ"
      }
    },
    {
      "cell_type": "code",
      "source": [
        "x = 5\n",
        "if x % 2 == 1:\n",
        "  print('奇数')\n",
        "else:\n",
        "  print('偶数')"
      ],
      "metadata": {
        "id": "4-ey7GSAE3zW"
      },
      "execution_count": null,
      "outputs": []
    },
    {
      "cell_type": "code",
      "source": [
        "z = '太郎'\n",
        "print(z,'さん')\n",
        "print(f'{z}さん')"
      ],
      "metadata": {
        "id": "iPKx0EAfE6uM"
      },
      "execution_count": null,
      "outputs": []
    },
    {
      "cell_type": "code",
      "source": [
        "x = [1, 2, 3, 4]\n",
        "# 以下は print(x) と同じ意味\n",
        "x"
      ],
      "metadata": {
        "id": "g03c_6QeE81u"
      },
      "execution_count": null,
      "outputs": []
    },
    {
      "cell_type": "code",
      "source": [
        "x[1]"
      ],
      "metadata": {
        "id": "4-56Bn-rE-oO"
      },
      "execution_count": null,
      "outputs": []
    },
    {
      "cell_type": "code",
      "source": [
        "x[0]"
      ],
      "metadata": {
        "id": "xS14g5z5FAPj"
      },
      "execution_count": null,
      "outputs": []
    },
    {
      "cell_type": "code",
      "source": [
        "x[1:]"
      ],
      "metadata": {
        "id": "ZMewtAKRFCcN"
      },
      "execution_count": null,
      "outputs": []
    },
    {
      "cell_type": "code",
      "source": [
        "x[:3]"
      ],
      "metadata": {
        "id": "LryAkO4oFDq6"
      },
      "execution_count": null,
      "outputs": []
    },
    {
      "cell_type": "markdown",
      "source": [
        "### 辞書"
      ],
      "metadata": {
        "id": "FVYNSuieFGqg"
      }
    },
    {
      "cell_type": "code",
      "source": [
        "x = {'鳥類':'にわとり' , '哺乳類':'犬'}\n",
        "x"
      ],
      "metadata": {
        "id": "440KsUtGFFvc"
      },
      "execution_count": null,
      "outputs": []
    },
    {
      "cell_type": "code",
      "source": [
        "x['鳥類']"
      ],
      "metadata": {
        "id": "AS_VO6TzFKFd"
      },
      "execution_count": null,
      "outputs": []
    },
    {
      "cell_type": "code",
      "source": [
        "for key in x:\n",
        "  print(f'キーが{key} ：値が{x[key]}')"
      ],
      "metadata": {
        "id": "-W4L2POSFLU4"
      },
      "execution_count": null,
      "outputs": []
    },
    {
      "cell_type": "code",
      "source": [
        "x = {'鳥類':['にわとり','スズメ','カラス'] , '哺乳類':['パンダ', '犬', '猫']}\n",
        "x"
      ],
      "metadata": {
        "id": "3rtj0nvYFNA7"
      },
      "execution_count": null,
      "outputs": []
    },
    {
      "cell_type": "code",
      "source": [
        "x['哺乳類'][2]"
      ],
      "metadata": {
        "id": "xN0Mpjd5FPcu"
      },
      "execution_count": null,
      "outputs": []
    },
    {
      "cell_type": "code",
      "source": [
        "x = {1:'I', 2:'II',3:'III', 4:'IV', 5:'V', 6:'VI',7:'VII', 8:'VIII', 9:'IX', 10:'X'}"
      ],
      "metadata": {
        "id": "cf6p773GFRDX"
      },
      "execution_count": null,
      "outputs": []
    },
    {
      "cell_type": "code",
      "source": [
        "x[8]"
      ],
      "metadata": {
        "id": "oBt5HlRdFSXk"
      },
      "execution_count": null,
      "outputs": []
    },
    {
      "cell_type": "markdown",
      "source": [
        "## ライブラリとは"
      ],
      "metadata": {
        "id": "ZcVeQ5zQFXEg"
      }
    },
    {
      "cell_type": "code",
      "source": [
        "!pip install emoji demoji"
      ],
      "metadata": {
        "id": "fxRDpPkwFaRM"
      },
      "execution_count": null,
      "outputs": []
    },
    {
      "cell_type": "code",
      "source": [
        "demoji.download_codes()"
      ],
      "metadata": {
        "id": "Rvi5saeMFbA0"
      },
      "execution_count": null,
      "outputs": []
    },
    {
      "cell_type": "code",
      "source": [
        "text = \"これらの絵文字 😄  😎 や 😒  😠 は何を意味しているの？\"\n",
        "emojis = demoji.findall(text)\n",
        "print(emojis)"
      ],
      "metadata": {
        "id": "5CJ7do8tFc4e"
      },
      "execution_count": null,
      "outputs": []
    },
    {
      "cell_type": "markdown",
      "source": [
        "## APIとは"
      ],
      "metadata": {
        "id": "3rCwVstzFfzM"
      }
    },
    {
      "cell_type": "code",
      "source": [
        "import requests\n",
        "import json\n",
        "url = 'https://zipcloud.ibsnet.co.jp/api/search?zipcode=7830060'\n",
        "data = requests.get(url)\n",
        "json_data = json.loads(data.text)"
      ],
      "metadata": {
        "id": "AiTWIp6NFh72"
      },
      "execution_count": null,
      "outputs": []
    },
    {
      "cell_type": "code",
      "source": [
        "json_data"
      ],
      "metadata": {
        "id": "TiSMPK5dFkXA"
      },
      "execution_count": null,
      "outputs": []
    },
    {
      "cell_type": "code",
      "source": [
        "curl https://api.openai.com/v1/completions \\\n",
        "-H \"Content-Type: application/json\" \\\n",
        "-H \"Authorization: Bearer 個人ごとに割り振られたAPIキー\" \\\n",
        "-d '{\"model\": \"OpenAI社で使えるAIモデル名\", \"prompt\": \"質問\"}'"
      ],
      "metadata": {
        "id": "tOvO8dZYFmAU"
      },
      "execution_count": null,
      "outputs": []
    },
    {
      "cell_type": "code",
      "source": [],
      "metadata": {
        "id": "duT_jtV9Fpbi"
      },
      "execution_count": null,
      "outputs": []
    },
    {
      "cell_type": "markdown",
      "source": [
        "# Open AI API"
      ],
      "metadata": {
        "id": "nFiefS2jjDFI"
      }
    },
    {
      "cell_type": "code",
      "source": [
        "!pip install cohere tiktoken openai"
      ],
      "metadata": {
        "id": "GMnuny3AFzk2"
      },
      "execution_count": null,
      "outputs": []
    },
    {
      "cell_type": "code",
      "source": [
        "from openai import OpenAI\n",
        "client = OpenAI(api_key=\"ここに取得したAPIキーを入力\")"
      ],
      "metadata": {
        "id": "iG59ebwtbeVo"
      },
      "execution_count": null,
      "outputs": []
    },
    {
      "cell_type": "code",
      "source": [
        "response = client.chat.completions.create(\n",
        "  model=\"gpt-3.5-turbo\",\n",
        "  messages=[\n",
        "    {\"role\": \"system\", \"content\": \"あなたは日本の株式の会社の会計担当者です。\"},\n",
        "    {\"role\": \"user\", \"content\": \"インボイスとはなんですか？\"},\n",
        "    ]\n",
        ")"
      ],
      "metadata": {
        "id": "ZIEEFsOMF9g-"
      },
      "execution_count": null,
      "outputs": []
    },
    {
      "cell_type": "code",
      "source": [
        "response.choices[0].message.content"
      ],
      "metadata": {
        "id": "8hjF7vxTF_F0"
      },
      "execution_count": null,
      "outputs": []
    },
    {
      "cell_type": "markdown",
      "source": [
        "\n",
        "## Microsoft Azure APIについて"
      ],
      "metadata": {
        "id": "1HgG5PLmGcwI"
      }
    },
    {
      "cell_type": "code",
      "source": [
        "!pip uninstall openai\n",
        "!pip install openai==0.28.1"
      ],
      "metadata": {
        "id": "qV42fYF7Ggli"
      },
      "execution_count": null,
      "outputs": []
    },
    {
      "cell_type": "code",
      "source": [
        "import os\n",
        "import openai\n",
        "\n",
        "openai.api_type = \"azure\"\n",
        "openai.api_base = \"https://**********.openai.azure.com/\"\n",
        "openai.api_version = \"2024-02-15-preview\"\n",
        "openai.api_key = \"ここに取得したAPIキーを入力\"\n",
        "\n",
        "message_text = [{\"role\":\"system\",\"content\":\"あなたは日本の株式の会社の会計担当者です。\"},\n",
        "\t\t\t\t{\"role\":\"user\",\"content\":\"インボイスとは何ですか？\"}]\n",
        "\n",
        "completion = openai.ChatCompletion.create(\n",
        "  engine=\"gpt-35-turbo-16k\",\n",
        "  messages = message_text\n",
        "  stop=None\n",
        ")"
      ],
      "metadata": {
        "id": "PJydhGxYGdxa"
      },
      "execution_count": null,
      "outputs": []
    },
    {
      "cell_type": "markdown",
      "source": [
        " ##  Hugging Face と API"
      ],
      "metadata": {
        "id": "GkonqinkGk6S"
      }
    },
    {
      "cell_type": "code",
      "source": [
        "import requests\n",
        "import json\n",
        "# エンドポイントを指定\n",
        "url = \"https://api-inference.huggingface.co/models/SamLowe/roberta-base-go_emotions\"\n",
        "# 問い合わせを必要な形式に変換\n",
        "payload = json.dumps({\n",
        "    \"text\": \"I am not having a great day\",\n",
        "})\n",
        "# jsonデータの指定と、自分の Access Tokens を設定\n",
        "headers = {\n",
        "  'Content-Type': 'application/json',\n",
        "  'Authorization': #'Bearer hf_'などと記載\n",
        "}\n",
        "# データを送る\n",
        "response = requests.request(\"POST\", url, headers=headers, data=payload)\n",
        "# 受け取ったデータを json 形式で表示する\n",
        "response_dict = json.loads(response.text)\n",
        "response_dict"
      ],
      "metadata": {
        "id": "WeBD7noNGnHm"
      },
      "execution_count": null,
      "outputs": []
    },
    {
      "cell_type": "markdown",
      "source": [],
      "metadata": {
        "id": "gSU6JJRCGrlo"
      }
    },
    {
      "cell_type": "markdown",
      "source": [],
      "metadata": {
        "id": "Mxv0VzLfGrjS"
      }
    },
    {
      "cell_type": "markdown",
      "source": [],
      "metadata": {
        "id": "90ozpQEIGrgK"
      }
    },
    {
      "cell_type": "markdown",
      "source": [],
      "metadata": {
        "id": "uMv3RjUsGrds"
      }
    },
    {
      "cell_type": "markdown",
      "source": [],
      "metadata": {
        "id": "g_bKppO3GraN"
      }
    },
    {
      "cell_type": "markdown",
      "source": [],
      "metadata": {
        "id": "uxU2mMY9Jg-6"
      }
    },
    {
      "cell_type": "markdown",
      "source": [],
      "metadata": {
        "id": "JCS9LyH1Jg7w"
      }
    },
    {
      "cell_type": "markdown",
      "source": [],
      "metadata": {
        "id": "YBpYC_PLJg4k"
      }
    },
    {
      "cell_type": "markdown",
      "source": [],
      "metadata": {
        "id": "z-C_6tJTJgmC"
      }
    },
    {
      "cell_type": "markdown",
      "source": [],
      "metadata": {
        "id": "xS-zq9v3Jgii"
      }
    }
  ]
}