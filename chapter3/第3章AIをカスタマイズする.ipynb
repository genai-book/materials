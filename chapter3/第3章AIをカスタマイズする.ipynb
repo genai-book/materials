{
  "cells": [
    {
      "cell_type": "markdown",
      "metadata": {
        "id": "8aPNQk9iDTvm"
      },
      "source": [
        "# C&R"
      ]
    },
    {
      "cell_type": "markdown",
      "metadata": {
        "id": "4puPb14SE2hQ"
      },
      "source": [
        "\n",
        "## プログラミング言語とは"
      ]
    },
    {
      "cell_type": "code",
      "execution_count": null,
      "metadata": {
        "id": "4-ey7GSAE3zW"
      },
      "outputs": [],
      "source": [
        "x = 5\n",
        "if x % 2 == 1:\n",
        "  print('奇数')\n",
        "else:\n",
        "  print('偶数')"
      ]
    },
    {
      "cell_type": "code",
      "execution_count": null,
      "metadata": {
        "id": "iPKx0EAfE6uM"
      },
      "outputs": [],
      "source": [
        "z = '太郎'\n",
        "print(z,'さん')\n",
        "print(f'{z}さん')"
      ]
    },
    {
      "cell_type": "code",
      "execution_count": null,
      "metadata": {
        "id": "g03c_6QeE81u"
      },
      "outputs": [],
      "source": [
        "x = [1, 2, 3, 4]\n",
        "# 以下は print(x) と同じ意味\n",
        "x"
      ]
    },
    {
      "cell_type": "code",
      "execution_count": null,
      "metadata": {
        "id": "4-56Bn-rE-oO"
      },
      "outputs": [],
      "source": [
        "x[1]"
      ]
    },
    {
      "cell_type": "code",
      "execution_count": null,
      "metadata": {
        "id": "xS14g5z5FAPj"
      },
      "outputs": [],
      "source": [
        "x[0]"
      ]
    },
    {
      "cell_type": "code",
      "execution_count": null,
      "metadata": {
        "id": "ZMewtAKRFCcN"
      },
      "outputs": [],
      "source": [
        "x[1:]"
      ]
    },
    {
      "cell_type": "code",
      "execution_count": null,
      "metadata": {
        "id": "LryAkO4oFDq6"
      },
      "outputs": [],
      "source": [
        "x[:3]"
      ]
    },
    {
      "cell_type": "markdown",
      "metadata": {
        "id": "FVYNSuieFGqg"
      },
      "source": [
        "### 辞書"
      ]
    },
    {
      "cell_type": "code",
      "execution_count": null,
      "metadata": {
        "id": "440KsUtGFFvc"
      },
      "outputs": [],
      "source": [
        "x = {'鳥類':'にわとり' , '哺乳類':'犬'}\n",
        "x"
      ]
    },
    {
      "cell_type": "code",
      "execution_count": null,
      "metadata": {
        "id": "AS_VO6TzFKFd"
      },
      "outputs": [],
      "source": [
        "x['鳥類']"
      ]
    },
    {
      "cell_type": "code",
      "execution_count": null,
      "metadata": {
        "id": "-W4L2POSFLU4"
      },
      "outputs": [],
      "source": [
        "for key in x:\n",
        "  print(f'キーが{key} ：値が{x[key]}')"
      ]
    },
    {
      "cell_type": "code",
      "execution_count": null,
      "metadata": {
        "id": "3rtj0nvYFNA7"
      },
      "outputs": [],
      "source": [
        "x = {'鳥類':['にわとり','スズメ','カラス'] , '哺乳類':['パンダ', '犬', '猫']}\n",
        "x"
      ]
    },
    {
      "cell_type": "code",
      "execution_count": null,
      "metadata": {
        "id": "xN0Mpjd5FPcu"
      },
      "outputs": [],
      "source": [
        "x['哺乳類'][2]"
      ]
    },
    {
      "cell_type": "code",
      "execution_count": null,
      "metadata": {
        "id": "cf6p773GFRDX"
      },
      "outputs": [],
      "source": [
        "x = {1:'I', 2:'II',3:'III', 4:'IV', 5:'V', 6:'VI',7:'VII', 8:'VIII', 9:'IX', 10:'X'}"
      ]
    },
    {
      "cell_type": "code",
      "execution_count": null,
      "metadata": {
        "id": "oBt5HlRdFSXk"
      },
      "outputs": [],
      "source": [
        "x[8]"
      ]
    },
    {
      "cell_type": "markdown",
      "metadata": {
        "id": "ZcVeQ5zQFXEg"
      },
      "source": [
        "## ライブラリとは"
      ]
    },
    {
      "cell_type": "code",
      "execution_count": null,
      "metadata": {
        "id": "fxRDpPkwFaRM"
      },
      "outputs": [],
      "source": [
        "!pip install emoji demoji"
      ]
    },
    {
      "cell_type": "code",
      "execution_count": null,
      "metadata": {
        "id": "Rvi5saeMFbA0"
      },
      "outputs": [],
      "source": [
        "demoji.download_codes()"
      ]
    },
    {
      "cell_type": "code",
      "execution_count": null,
      "metadata": {
        "id": "5CJ7do8tFc4e"
      },
      "outputs": [],
      "source": [
        "text = \"これらの絵文字 😄  😎 や 😒  😠 は何を意味しているの？\"\n",
        "emojis = demoji.findall(text)\n",
        "print(emojis)"
      ]
    },
    {
      "cell_type": "markdown",
      "metadata": {
        "id": "3rCwVstzFfzM"
      },
      "source": [
        "## APIとは"
      ]
    },
    {
      "cell_type": "code",
      "execution_count": null,
      "metadata": {
        "id": "AiTWIp6NFh72"
      },
      "outputs": [],
      "source": [
        "import requests\n",
        "import json\n",
        "url = 'https://zipcloud.ibsnet.co.jp/api/search?zipcode=7830060'\n",
        "data = requests.get(url)\n",
        "json_data = json.loads(data.text)"
      ]
    },
    {
      "cell_type": "code",
      "execution_count": null,
      "metadata": {
        "id": "TiSMPK5dFkXA"
      },
      "outputs": [],
      "source": [
        "json_data"
      ]
    },
    {
      "cell_type": "code",
      "execution_count": null,
      "metadata": {
        "id": "tOvO8dZYFmAU"
      },
      "outputs": [],
      "source": [
        "curl https://api.openai.com/v1/completions \\\n",
        "-H \"Content-Type: application/json\" \\\n",
        "-H \"Authorization: Bearer 個人ごとに割り振られたAPIキー\" \\\n",
        "-d '{\"model\": \"OpenAI社で使えるAIモデル名\", \"prompt\": \"質問\"}'"
      ]
    },
    {
      "cell_type": "code",
      "execution_count": null,
      "metadata": {
        "id": "duT_jtV9Fpbi"
      },
      "outputs": [],
      "source": []
    },
    {
      "cell_type": "markdown",
      "metadata": {
        "id": "nFiefS2jjDFI"
      },
      "source": [
        "# Open AI API"
      ]
    },
    {
      "cell_type": "code",
      "execution_count": null,
      "metadata": {
        "id": "GMnuny3AFzk2"
      },
      "outputs": [],
      "source": [
        "!pip install cohere tiktoken openai"
      ]
    },
    {
      "cell_type": "code",
      "execution_count": null,
      "metadata": {
        "id": "iG59ebwtbeVo"
      },
      "outputs": [],
      "source": [
        "from openai import OpenAI\n",
        "client = OpenAI(api_key=\"ここに取得したAPIキーを入力\")"
      ]
    },
    {
      "cell_type": "code",
      "execution_count": null,
      "metadata": {
        "id": "ZIEEFsOMF9g-"
      },
      "outputs": [],
      "source": [
        "response = client.chat.completions.create(\n",
        "  model=\"gpt-3.5-turbo\",\n",
        "  messages=[\n",
        "    {\"role\": \"system\", \"content\": \"あなたは日本の株式の会社の会計担当者です。\"},\n",
        "    {\"role\": \"user\", \"content\": \"インボイスとはなんですか？\"},\n",
        "    ]\n",
        ")"
      ]
    },
    {
      "cell_type": "code",
      "execution_count": null,
      "metadata": {
        "id": "8hjF7vxTF_F0"
      },
      "outputs": [],
      "source": [
        "response.choices[0].message.content"
      ]
    },
    {
      "cell_type": "markdown",
      "metadata": {
        "id": "1HgG5PLmGcwI"
      },
      "source": [
        "\n",
        "## Microsoft Azure APIについて"
      ]
    },
    {
      "cell_type": "code",
      "execution_count": null,
      "metadata": {
        "id": "qV42fYF7Ggli"
      },
      "outputs": [],
      "source": [
        "!pip uninstall openai\n",
        "!pip install openai==0.28.1"
      ]
    },
    {
      "cell_type": "code",
      "execution_count": null,
      "metadata": {
        "id": "PJydhGxYGdxa"
      },
      "outputs": [],
      "source": [
        "import os\n",
        "import openai\n",
        "\n",
        "openai.api_type = \"azure\"\n",
        "openai.api_base = \"https://**********.openai.azure.com/\"\n",
        "openai.api_version = \"2024-02-15-preview\"\n",
        "openai.api_key = \"ここに取得したAPIキーを入力\"\n",
        "\n",
        "message_text = [{\"role\":\"system\",\"content\":\"あなたは日本の株式の会社の会計担当者です。\"},\n",
        "\t\t\t\t{\"role\":\"user\",\"content\":\"インボイスとは何ですか？\"}]\n",
        "\n",
        "completion = openai.ChatCompletion.create(\n",
        "  engine=\"gpt-35-turbo-16k\",\n",
        "  messages = message_text\n",
        "  stop=None\n",
        ")"
      ]
    },
    {
      "cell_type": "markdown",
      "metadata": {
        "id": "GkonqinkGk6S"
      },
      "source": [
        " ##  Hugging Face と API"
      ]
    },
    {
      "cell_type": "code",
      "execution_count": null,
      "metadata": {
        "id": "WeBD7noNGnHm"
      },
      "outputs": [],
      "source": [
        "import requests\n",
        "import json\n",
        "# エンドポイントを指定\n",
        "url = \"https://api-inference.huggingface.co/models/SamLowe/roberta-base-go_emotions\"\n",
        "# 問い合わせを必要な形式に変換\n",
        "payload = json.dumps({\n",
        "    \"text\": \"I am not having a great day\",\n",
        "})\n",
        "# jsonデータの指定と、自分の Access Tokens を設定\n",
        "headers = {\n",
        "  'Content-Type': 'application/json',\n",
        "  'Authorization': 'Bearer hf_xxxxxxxx'\n",
        "}\n",
        "# データを送る\n",
        "response = requests.request(\"POST\", url, headers=headers, data=payload)\n",
        "# 受け取ったデータを json 形式で表示する\n",
        "response_dict = json.loads(response.text)\n",
        "response_dict"
      ]
    }
  ],
  "metadata": {
    "colab": {
      "provenance": []
    },
    "kernelspec": {
      "display_name": "Python 3",
      "name": "python3"
    },
    "language_info": {
      "name": "python"
    }
  },
  "nbformat": 4,
  "nbformat_minor": 0
}
