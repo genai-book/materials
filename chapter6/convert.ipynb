{
 "cells": [
  {
   "cell_type": "code",
   "execution_count": 2,
   "id": "26350ff6-4872-4052-9ee6-89ec72c72c84",
   "metadata": {},
   "outputs": [
    {
     "name": "stdout",
     "output_type": "stream",
     "text": [
      "Done\n"
     ]
    }
   ],
   "source": [
    "import tensorflow as tf\n",
    "import numpy as np\n",
    "import tf2onnx\n",
    "from keras.models import load_model\n",
    "\n",
    "# モデルの読み込み\n",
    "model = load_model(\"./best_model.keras\")\n",
    "\n",
    "# ONNX形式への変換に必要な設定\n",
    "model.output_names=[\"output\"]\n",
    "input_signature = tf.TensorSpec(shape=(None, 64, 64, 3), dtype=np.float32)\n",
    "\n",
    "# ONNX形式への変換\n",
    "tf2onnx.convert.from_keras(\n",
    "    model,\n",
    "    input_signature=[input_signature],\n",
    "    output_path=\"./dog_owl.onnx\")\n",
    "\n",
    "print(\"Done\")"
   ]
  }
 ],
 "metadata": {
  "kernelspec": {
   "display_name": "Python 3 (ipykernel)",
   "language": "python",
   "name": "python3"
  },
  "language_info": {
   "codemirror_mode": {
    "name": "ipython",
    "version": 3
   },
   "file_extension": ".py",
   "mimetype": "text/x-python",
   "name": "python",
   "nbconvert_exporter": "python",
   "pygments_lexer": "ipython3",
   "version": "3.9.19"
  }
 },
 "nbformat": 4,
 "nbformat_minor": 5
}
